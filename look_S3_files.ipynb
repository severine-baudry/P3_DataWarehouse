{
 "cells": [
  {
   "cell_type": "code",
   "execution_count": 1,
   "metadata": {
    "editable": true
   },
   "outputs": [
    {
     "name": "stdout",
     "output_type": "stream",
     "text": [
      "Collecting s3fs\n",
      "  Downloading https://files.pythonhosted.org/packages/a7/58/732ea1c735d725b1cc4cf365ae6326c22569a5e88c8502d13844e91f08ef/s3fs-0.5.1-py3-none-any.whl\n",
      "Collecting fsspec>=0.8.0 (from s3fs)\n",
      "\u001b[?25l  Downloading https://files.pythonhosted.org/packages/a5/8b/1df260f860f17cb08698170153ef7db672c497c1840dcc8613ce26a8a005/fsspec-0.8.4-py3-none-any.whl (91kB)\n",
      "\u001b[K    100% |████████████████████████████████| 92kB 6.3MB/s ta 0:00:011\n",
      "\u001b[?25hCollecting aiobotocore>=1.0.1 (from s3fs)\n",
      "\u001b[?25l  Downloading https://files.pythonhosted.org/packages/73/25/a81b015035012131056a6b7a339eec052f86f33e35fd91f160e961ea2a5e/aiobotocore-1.1.2-py3-none-any.whl (45kB)\n",
      "\u001b[K    100% |████████████████████████████████| 51kB 11.4MB/s ta 0:00:01\n",
      "\u001b[?25hCollecting wrapt>=1.10.10 (from aiobotocore>=1.0.1->s3fs)\n",
      "  Downloading https://files.pythonhosted.org/packages/82/f7/e43cefbe88c5fd371f4cf0cf5eb3feccd07515af9fd6cf7dbf1d1793a797/wrapt-1.12.1.tar.gz\n",
      "Collecting botocore<1.17.45,>=1.17.44 (from aiobotocore>=1.0.1->s3fs)\n",
      "\u001b[?25l  Downloading https://files.pythonhosted.org/packages/1e/6a/b6490235c01c941a24a86235e2a641e9505cf0ce4b4968d4987573d92bec/botocore-1.17.44-py2.py3-none-any.whl (6.5MB)\n",
      "\u001b[K    100% |████████████████████████████████| 6.5MB 4.9MB/s eta 0:00:01    61% |███████████████████▊            | 4.0MB 16.2MB/s eta 0:00:01    93% |██████████████████████████████  | 6.1MB 23.3MB/s eta 0:00:01\n",
      "\u001b[?25hCollecting aiohttp>=3.3.1 (from aiobotocore>=1.0.1->s3fs)\n",
      "\u001b[?25l  Downloading https://files.pythonhosted.org/packages/68/96/40a765d7d68028c5a6d169b2747ea3f4828ec91a358a63818d468380521c/aiohttp-3.7.3.tar.gz (1.1MB)\n",
      "\u001b[K    100% |████████████████████████████████| 1.1MB 7.9MB/s eta 0:00:01    95% |██████████████████████████████▋ | 1.1MB 24.3MB/s eta 0:00:01\n",
      "\u001b[?25h  Installing build dependencies ... \u001b[?25ldone\n",
      "\u001b[?25hCollecting aioitertools>=0.5.1 (from aiobotocore>=1.0.1->s3fs)\n",
      "  Downloading https://files.pythonhosted.org/packages/32/0b/3260ac050de07bf6e91871944583bb8598091da19155c34f7ef02244709c/aioitertools-0.7.1-py3-none-any.whl\n",
      "Requirement already satisfied: docutils<0.16,>=0.10 in /opt/conda/lib/python3.6/site-packages (from botocore<1.17.45,>=1.17.44->aiobotocore>=1.0.1->s3fs) (0.14)\n",
      "Requirement already satisfied: jmespath<1.0.0,>=0.7.1 in /opt/conda/lib/python3.6/site-packages (from botocore<1.17.45,>=1.17.44->aiobotocore>=1.0.1->s3fs) (0.9.3)\n",
      "Requirement already satisfied: urllib3<1.26,>=1.20; python_version != \"3.4\" in /opt/conda/lib/python3.6/site-packages (from botocore<1.17.45,>=1.17.44->aiobotocore>=1.0.1->s3fs) (1.22)\n",
      "Requirement already satisfied: python-dateutil<3.0.0,>=2.1 in /opt/conda/lib/python3.6/site-packages (from botocore<1.17.45,>=1.17.44->aiobotocore>=1.0.1->s3fs) (2.6.1)\n",
      "Requirement already satisfied: attrs>=17.3.0 in /opt/conda/lib/python3.6/site-packages (from aiohttp>=3.3.1->aiobotocore>=1.0.1->s3fs) (19.1.0)\n",
      "Requirement already satisfied: chardet<4.0,>=2.0 in /opt/conda/lib/python3.6/site-packages (from aiohttp>=3.3.1->aiobotocore>=1.0.1->s3fs) (3.0.4)\n",
      "Collecting multidict<7.0,>=4.5 (from aiohttp>=3.3.1->aiobotocore>=1.0.1->s3fs)\n",
      "\u001b[?25l  Downloading https://files.pythonhosted.org/packages/1c/74/e8b46156f37ca56d10d895d4e8595aa2b344cff3c1fb3629ec97a8656ccb/multidict-5.1.0.tar.gz (53kB)\n",
      "\u001b[K    100% |████████████████████████████████| 61kB 14.1MB/s ta 0:00:01\n",
      "\u001b[?25h  Installing build dependencies ... \u001b[?25ldone\n",
      "\u001b[?25hCollecting async_timeout<4.0,>=3.0 (from aiohttp>=3.3.1->aiobotocore>=1.0.1->s3fs)\n",
      "  Downloading https://files.pythonhosted.org/packages/e1/1e/5a4441be21b0726c4464f3f23c8b19628372f606755a9d2e46c187e65ec4/async_timeout-3.0.1-py3-none-any.whl\n",
      "Collecting yarl<2.0,>=1.0 (from aiohttp>=3.3.1->aiobotocore>=1.0.1->s3fs)\n",
      "\u001b[?25l  Downloading https://files.pythonhosted.org/packages/97/e7/af7219a0fe240e8ef6bb555341a63c43045c21ab0392b4435e754b716fa1/yarl-1.6.3.tar.gz (176kB)\n",
      "\u001b[K    100% |████████████████████████████████| 184kB 17.0MB/s ta 0:00:01\n",
      "\u001b[?25h  Installing build dependencies ... \u001b[?25ldone\n",
      "\u001b[?25hCollecting typing_extensions>=3.6.5 (from aiohttp>=3.3.1->aiobotocore>=1.0.1->s3fs)\n",
      "  Downloading https://files.pythonhosted.org/packages/60/7a/e881b5abb54db0e6e671ab088d079c57ce54e8a01a3ca443f561ccadb37e/typing_extensions-3.7.4.3-py3-none-any.whl\n",
      "Collecting idna-ssl>=1.0 (from aiohttp>=3.3.1->aiobotocore>=1.0.1->s3fs)\n",
      "  Downloading https://files.pythonhosted.org/packages/46/03/07c4894aae38b0de52b52586b24bf189bb83e4ddabfe2e2c8f2419eec6f4/idna-ssl-1.1.0.tar.gz\n",
      "Requirement already satisfied: six>=1.5 in /opt/conda/lib/python3.6/site-packages (from python-dateutil<3.0.0,>=2.1->botocore<1.17.45,>=1.17.44->aiobotocore>=1.0.1->s3fs) (1.11.0)\n",
      "Requirement already satisfied: idna>=2.0 in /opt/conda/lib/python3.6/site-packages (from yarl<2.0,>=1.0->aiohttp>=3.3.1->aiobotocore>=1.0.1->s3fs) (2.6)\n",
      "Building wheels for collected packages: wrapt, aiohttp, multidict, yarl, idna-ssl\n",
      "  Running setup.py bdist_wheel for wrapt ... \u001b[?25ldone\n",
      "\u001b[?25h  Stored in directory: /root/.cache/pip/wheels/b1/c2/ed/d62208260edbd3fa7156545c00ef966f45f2063d0a84f8208a\n",
      "  Running setup.py bdist_wheel for aiohttp ... \u001b[?25ldone\n",
      "\u001b[?25h  Stored in directory: /root/.cache/pip/wheels/bd/81/19/d583039906f10a32c700594b9ca6468554576dcb48f3008845\n",
      "  Running setup.py bdist_wheel for multidict ... \u001b[?25ldone\n",
      "\u001b[?25h  Stored in directory: /root/.cache/pip/wheels/e7/05/d2/f5c04c29d0e4b234dbcd4b609b51f8c65d67ff9bbd01c904b1\n",
      "  Running setup.py bdist_wheel for yarl ... \u001b[?25ldone\n",
      "\u001b[?25h  Stored in directory: /root/.cache/pip/wheels/dc/fc/db/bca151751ff7119f584686572f716c4b35637210a3e52f6050\n",
      "  Running setup.py bdist_wheel for idna-ssl ... \u001b[?25ldone\n",
      "\u001b[?25h  Stored in directory: /root/.cache/pip/wheels/d3/00/b3/32d613e19e08a739751dd6bf998cfed277728f8b2127ad4eb7\n",
      "Successfully built wrapt aiohttp multidict yarl idna-ssl\n",
      "\u001b[31mboto3 1.9.7 has requirement botocore<1.13.0,>=1.12.7, but you'll have botocore 1.17.44 which is incompatible.\u001b[0m\n",
      "\u001b[31mawscli 1.16.17 has requirement botocore==1.12.7, but you'll have botocore 1.17.44 which is incompatible.\u001b[0m\n",
      "Installing collected packages: fsspec, wrapt, botocore, multidict, async-timeout, typing-extensions, yarl, idna-ssl, aiohttp, aioitertools, aiobotocore, s3fs\n",
      "  Found existing installation: botocore 1.12.7\n",
      "    Uninstalling botocore-1.12.7:\n",
      "      Successfully uninstalled botocore-1.12.7\n",
      "Successfully installed aiobotocore-1.1.2 aiohttp-3.7.3 aioitertools-0.7.1 async-timeout-3.0.1 botocore-1.17.44 fsspec-0.8.4 idna-ssl-1.1.0 multidict-5.1.0 s3fs-0.5.1 typing-extensions-3.7.4.3 wrapt-1.12.1 yarl-1.6.3\n"
     ]
    }
   ],
   "source": [
    "!pip install s3fs"
   ]
  },
  {
   "cell_type": "code",
   "execution_count": 2,
   "metadata": {
    "editable": true
   },
   "outputs": [],
   "source": [
    "import boto3\n",
    "import pandas as pd\n",
    "import configparser"
   ]
  },
  {
   "cell_type": "code",
   "execution_count": 3,
   "metadata": {
    "editable": true
   },
   "outputs": [],
   "source": [
    "config = configparser.ConfigParser()\n",
    "config.read_file(open(\"./dwh.cfg\"))"
   ]
  },
  {
   "cell_type": "code",
   "execution_count": 4,
   "metadata": {
    "editable": true
   },
   "outputs": [],
   "source": [
    "KEY = config.get(\"AWS\", \"KEY\")\n",
    "SECRET = config.get(\"AWS\", \"SECRET\")\n",
    "SONG_DATA = config.get(\"S3\", \"SONG_DATA\")\n",
    "LOG_DATA = config.get(\"S3\", \"LOG_DATA\")"
   ]
  },
  {
   "cell_type": "code",
   "execution_count": 5,
   "metadata": {
    "editable": true
   },
   "outputs": [],
   "source": [
    "song_data_path = \"s3://udacity-dend/song_data\"\n",
    "log_data_path = \"s3://udacity-dend/log_data\""
   ]
  },
  {
   "cell_type": "code",
   "execution_count": 16,
   "metadata": {
    "editable": true
   },
   "outputs": [],
   "source": [
    "s3 = boto3.resource('s3',\n",
    "                       region_name=\"us-west-2\",\n",
    "                       aws_access_key_id=KEY,\n",
    "                       aws_secret_access_key=SECRET\n",
    "                   )\n",
    "db_bucket = s3.Bucket(\"udacity-dend\")\n"
   ]
  },
  {
   "cell_type": "code",
   "execution_count": 20,
   "metadata": {
    "editable": true
   },
   "outputs": [
    {
     "name": "stdout",
     "output_type": "stream",
     "text": [
      "s3.ObjectSummary(bucket_name='udacity-dend', key='song_data/')\n",
      "s3.ObjectSummary(bucket_name='udacity-dend', key='song_data/A/A/A/TRAAAAK128F9318786.json')\n",
      "s3.ObjectSummary(bucket_name='udacity-dend', key='song_data/A/A/A/TRAAAAV128F421A322.json')\n",
      "s3.ObjectSummary(bucket_name='udacity-dend', key='song_data/A/A/A/TRAAABD128F429CF47.json')\n",
      "s3.ObjectSummary(bucket_name='udacity-dend', key='song_data/A/A/A/TRAAACN128F9355673.json')\n",
      "s3.ObjectSummary(bucket_name='udacity-dend', key='song_data/A/A/A/TRAAAEA128F935A30D.json')\n",
      "s3.ObjectSummary(bucket_name='udacity-dend', key='song_data/A/A/A/TRAAAED128E0783FAB.json')\n",
      "s3.ObjectSummary(bucket_name='udacity-dend', key='song_data/A/A/A/TRAAAEM128F93347B9.json')\n",
      "s3.ObjectSummary(bucket_name='udacity-dend', key='song_data/A/A/A/TRAAAEW128F42930C0.json')\n",
      "s3.ObjectSummary(bucket_name='udacity-dend', key='song_data/A/A/A/TRAAAFD128F92F423A.json')\n",
      "s3.ObjectSummary(bucket_name='udacity-dend', key='song_data/A/A/A/TRAAAGR128F425B14B.json')\n"
     ]
    }
   ],
   "source": [
    "l_obj = db_bucket.objects.filter(Prefix ='song_data')\n",
    "for i,obj in enumerate(l_obj) :\n",
    "    print(obj)\n",
    "    if i >= 10 :\n",
    "        break"
   ]
  },
  {
   "cell_type": "code",
   "execution_count": 21,
   "metadata": {
    "editable": true
   },
   "outputs": [
    {
     "name": "stdout",
     "output_type": "stream",
     "text": [
      "s3.ObjectSummary(bucket_name='udacity-dend', key='log_data/')\n",
      "s3.ObjectSummary(bucket_name='udacity-dend', key='log_data/2018/11/2018-11-01-events.json')\n",
      "s3.ObjectSummary(bucket_name='udacity-dend', key='log_data/2018/11/2018-11-02-events.json')\n",
      "s3.ObjectSummary(bucket_name='udacity-dend', key='log_data/2018/11/2018-11-03-events.json')\n",
      "s3.ObjectSummary(bucket_name='udacity-dend', key='log_data/2018/11/2018-11-04-events.json')\n",
      "s3.ObjectSummary(bucket_name='udacity-dend', key='log_data/2018/11/2018-11-05-events.json')\n",
      "s3.ObjectSummary(bucket_name='udacity-dend', key='log_data/2018/11/2018-11-06-events.json')\n",
      "s3.ObjectSummary(bucket_name='udacity-dend', key='log_data/2018/11/2018-11-07-events.json')\n",
      "s3.ObjectSummary(bucket_name='udacity-dend', key='log_data/2018/11/2018-11-08-events.json')\n",
      "s3.ObjectSummary(bucket_name='udacity-dend', key='log_data/2018/11/2018-11-09-events.json')\n",
      "s3.ObjectSummary(bucket_name='udacity-dend', key='log_data/2018/11/2018-11-10-events.json')\n"
     ]
    }
   ],
   "source": [
    "l_obj = db_bucket.objects.filter(Prefix ='log_data')\n",
    "for i,obj in enumerate(l_obj) :\n",
    "    print(obj)\n",
    "    if i >= 10 :\n",
    "        break"
   ]
  },
  {
   "cell_type": "code",
   "execution_count": 14,
   "metadata": {
    "editable": true
   },
   "outputs": [
    {
     "data": {
      "text/plain": [
       "artist_id           ARGE7G11187FB37E05\n",
       "artist_latitude                   None\n",
       "artist_location           Brooklyn, NY\n",
       "artist_longitude                  None\n",
       "artist_name               Cyndi Lauper\n",
       "duration                        240.64\n",
       "num_songs                            1\n",
       "song_id             SONRWUU12AF72A4283\n",
       "title               Into The Nightlife\n",
       "year                              2008\n",
       "dtype: object"
      ]
     },
     "execution_count": 14,
     "metadata": {},
     "output_type": "execute_result"
    }
   ],
   "source": [
    "import os\n",
    "song_ex = pd.read_json( \"s3://udacity-dend/song_data/A/A/A/TRAAAGR128F425B14B.json\", typ = 'series')\n",
    "song_ex"
   ]
  },
  {
   "cell_type": "code",
   "execution_count": 19,
   "metadata": {
    "editable": true
   },
   "outputs": [
    {
     "ename": "JSONDecodeError",
     "evalue": "Extra data: line 2 column 1 (char 457)",
     "output_type": "error",
     "traceback": [
      "\u001b[0;31m---------------------------------------------------------------------------\u001b[0m",
      "\u001b[0;31mJSONDecodeError\u001b[0m                           Traceback (most recent call last)",
      "\u001b[0;32m<ipython-input-19-ad0438658191>\u001b[0m in \u001b[0;36m<module>\u001b[0;34m()\u001b[0m\n\u001b[1;32m      2\u001b[0m \u001b[0;32mimport\u001b[0m \u001b[0ms3fs\u001b[0m\u001b[0;34m\u001b[0m\u001b[0m\n\u001b[1;32m      3\u001b[0m \u001b[0mfs\u001b[0m \u001b[0;34m=\u001b[0m \u001b[0ms3fs\u001b[0m\u001b[0;34m.\u001b[0m\u001b[0mS3FileSystem\u001b[0m\u001b[0;34m(\u001b[0m\u001b[0manon\u001b[0m\u001b[0;34m=\u001b[0m\u001b[0;32mTrue\u001b[0m\u001b[0;34m)\u001b[0m\u001b[0;34m\u001b[0m\u001b[0m\n\u001b[0;32m----> 4\u001b[0;31m \u001b[0mlog_ex\u001b[0m \u001b[0;34m=\u001b[0m \u001b[0mjson\u001b[0m\u001b[0;34m.\u001b[0m\u001b[0mload\u001b[0m\u001b[0;34m(\u001b[0m \u001b[0mfs\u001b[0m\u001b[0;34m.\u001b[0m\u001b[0mopen\u001b[0m\u001b[0;34m(\u001b[0m\u001b[0;34m\"s3://udacity-dend/log_data/2018/11/2018-11-01-events.json\"\u001b[0m\u001b[0;34m)\u001b[0m\u001b[0;34m)\u001b[0m\u001b[0;34m\u001b[0m\u001b[0m\n\u001b[0m",
      "\u001b[0;32m/opt/conda/lib/python3.6/json/__init__.py\u001b[0m in \u001b[0;36mload\u001b[0;34m(fp, cls, object_hook, parse_float, parse_int, parse_constant, object_pairs_hook, **kw)\u001b[0m\n\u001b[1;32m    297\u001b[0m         \u001b[0mcls\u001b[0m\u001b[0;34m=\u001b[0m\u001b[0mcls\u001b[0m\u001b[0;34m,\u001b[0m \u001b[0mobject_hook\u001b[0m\u001b[0;34m=\u001b[0m\u001b[0mobject_hook\u001b[0m\u001b[0;34m,\u001b[0m\u001b[0;34m\u001b[0m\u001b[0m\n\u001b[1;32m    298\u001b[0m         \u001b[0mparse_float\u001b[0m\u001b[0;34m=\u001b[0m\u001b[0mparse_float\u001b[0m\u001b[0;34m,\u001b[0m \u001b[0mparse_int\u001b[0m\u001b[0;34m=\u001b[0m\u001b[0mparse_int\u001b[0m\u001b[0;34m,\u001b[0m\u001b[0;34m\u001b[0m\u001b[0m\n\u001b[0;32m--> 299\u001b[0;31m         parse_constant=parse_constant, object_pairs_hook=object_pairs_hook, **kw)\n\u001b[0m\u001b[1;32m    300\u001b[0m \u001b[0;34m\u001b[0m\u001b[0m\n\u001b[1;32m    301\u001b[0m \u001b[0;34m\u001b[0m\u001b[0m\n",
      "\u001b[0;32m/opt/conda/lib/python3.6/json/__init__.py\u001b[0m in \u001b[0;36mloads\u001b[0;34m(s, encoding, cls, object_hook, parse_float, parse_int, parse_constant, object_pairs_hook, **kw)\u001b[0m\n\u001b[1;32m    352\u001b[0m             \u001b[0mparse_int\u001b[0m \u001b[0;32mis\u001b[0m \u001b[0;32mNone\u001b[0m \u001b[0;32mand\u001b[0m \u001b[0mparse_float\u001b[0m \u001b[0;32mis\u001b[0m \u001b[0;32mNone\u001b[0m \u001b[0;32mand\u001b[0m\u001b[0;34m\u001b[0m\u001b[0m\n\u001b[1;32m    353\u001b[0m             parse_constant is None and object_pairs_hook is None and not kw):\n\u001b[0;32m--> 354\u001b[0;31m         \u001b[0;32mreturn\u001b[0m \u001b[0m_default_decoder\u001b[0m\u001b[0;34m.\u001b[0m\u001b[0mdecode\u001b[0m\u001b[0;34m(\u001b[0m\u001b[0ms\u001b[0m\u001b[0;34m)\u001b[0m\u001b[0;34m\u001b[0m\u001b[0m\n\u001b[0m\u001b[1;32m    355\u001b[0m     \u001b[0;32mif\u001b[0m \u001b[0mcls\u001b[0m \u001b[0;32mis\u001b[0m \u001b[0;32mNone\u001b[0m\u001b[0;34m:\u001b[0m\u001b[0;34m\u001b[0m\u001b[0m\n\u001b[1;32m    356\u001b[0m         \u001b[0mcls\u001b[0m \u001b[0;34m=\u001b[0m \u001b[0mJSONDecoder\u001b[0m\u001b[0;34m\u001b[0m\u001b[0m\n",
      "\u001b[0;32m/opt/conda/lib/python3.6/json/decoder.py\u001b[0m in \u001b[0;36mdecode\u001b[0;34m(self, s, _w)\u001b[0m\n\u001b[1;32m    340\u001b[0m         \u001b[0mend\u001b[0m \u001b[0;34m=\u001b[0m \u001b[0m_w\u001b[0m\u001b[0;34m(\u001b[0m\u001b[0ms\u001b[0m\u001b[0;34m,\u001b[0m \u001b[0mend\u001b[0m\u001b[0;34m)\u001b[0m\u001b[0;34m.\u001b[0m\u001b[0mend\u001b[0m\u001b[0;34m(\u001b[0m\u001b[0;34m)\u001b[0m\u001b[0;34m\u001b[0m\u001b[0m\n\u001b[1;32m    341\u001b[0m         \u001b[0;32mif\u001b[0m \u001b[0mend\u001b[0m \u001b[0;34m!=\u001b[0m \u001b[0mlen\u001b[0m\u001b[0;34m(\u001b[0m\u001b[0ms\u001b[0m\u001b[0;34m)\u001b[0m\u001b[0;34m:\u001b[0m\u001b[0;34m\u001b[0m\u001b[0m\n\u001b[0;32m--> 342\u001b[0;31m             \u001b[0;32mraise\u001b[0m \u001b[0mJSONDecodeError\u001b[0m\u001b[0;34m(\u001b[0m\u001b[0;34m\"Extra data\"\u001b[0m\u001b[0;34m,\u001b[0m \u001b[0ms\u001b[0m\u001b[0;34m,\u001b[0m \u001b[0mend\u001b[0m\u001b[0;34m)\u001b[0m\u001b[0;34m\u001b[0m\u001b[0m\n\u001b[0m\u001b[1;32m    343\u001b[0m         \u001b[0;32mreturn\u001b[0m \u001b[0mobj\u001b[0m\u001b[0;34m\u001b[0m\u001b[0m\n\u001b[1;32m    344\u001b[0m \u001b[0;34m\u001b[0m\u001b[0m\n",
      "\u001b[0;31mJSONDecodeError\u001b[0m: Extra data: line 2 column 1 (char 457)"
     ]
    }
   ],
   "source": [
    "import json\n",
    "import s3fs\n",
    "fs = s3fs.S3FileSystem(anon=True)\n",
    "log_ex = json.load( fs.open(\"s3://udacity-dend/log_data/2018/11/2018-11-01-events.json\"))"
   ]
  },
  {
   "cell_type": "code",
   "execution_count": 33,
   "metadata": {
    "editable": true
   },
   "outputs": [
    {
     "name": "stdout",
     "output_type": "stream",
     "text": [
      "{'artist': None, 'auth': 'Logged In', 'firstName': 'Walter', 'gender': 'M', 'itemInSession': 0, 'lastName': 'Frye', 'length': None, 'level': 'free', 'location': 'San Francisco-Oakland-Hayward, CA', 'method': 'GET', 'page': 'Home', 'registration': 1540919166796.0, 'sessionId': 38, 'song': None, 'status': 200, 'ts': 1541105830796, 'userAgent': '\"Mozilla/5.0 (Macintosh; Intel Mac OS X 10_9_4) AppleWebKit/537.36 (KHTML, like Gecko) Chrome/36.0.1985.143 Safari/537.36\"', 'userId': '39'}\n",
      "{'artist': None, 'auth': 'Logged In', 'firstName': 'Kaylee', 'gender': 'F', 'itemInSession': 0, 'lastName': 'Summers', 'length': None, 'level': 'free', 'location': 'Phoenix-Mesa-Scottsdale, AZ', 'method': 'GET', 'page': 'Home', 'registration': 1540344794796.0, 'sessionId': 139, 'song': None, 'status': 200, 'ts': 1541106106796, 'userAgent': '\"Mozilla/5.0 (Windows NT 6.1; WOW64) AppleWebKit/537.36 (KHTML, like Gecko) Chrome/35.0.1916.153 Safari/537.36\"', 'userId': '8'}\n",
      "{'artist': \"Des'ree\", 'auth': 'Logged In', 'firstName': 'Kaylee', 'gender': 'F', 'itemInSession': 1, 'lastName': 'Summers', 'length': 246.30812, 'level': 'free', 'location': 'Phoenix-Mesa-Scottsdale, AZ', 'method': 'PUT', 'page': 'NextSong', 'registration': 1540344794796.0, 'sessionId': 139, 'song': 'You Gotta Be', 'status': 200, 'ts': 1541106106796, 'userAgent': '\"Mozilla/5.0 (Windows NT 6.1; WOW64) AppleWebKit/537.36 (KHTML, like Gecko) Chrome/35.0.1916.153 Safari/537.36\"', 'userId': '8'}\n",
      "{'artist': None, 'auth': 'Logged In', 'firstName': 'Kaylee', 'gender': 'F', 'itemInSession': 2, 'lastName': 'Summers', 'length': None, 'level': 'free', 'location': 'Phoenix-Mesa-Scottsdale, AZ', 'method': 'GET', 'page': 'Upgrade', 'registration': 1540344794796.0, 'sessionId': 139, 'song': None, 'status': 200, 'ts': 1541106132796, 'userAgent': '\"Mozilla/5.0 (Windows NT 6.1; WOW64) AppleWebKit/537.36 (KHTML, like Gecko) Chrome/35.0.1916.153 Safari/537.36\"', 'userId': '8'}\n",
      "{'artist': 'Mr Oizo', 'auth': 'Logged In', 'firstName': 'Kaylee', 'gender': 'F', 'itemInSession': 3, 'lastName': 'Summers', 'length': 144.03873, 'level': 'free', 'location': 'Phoenix-Mesa-Scottsdale, AZ', 'method': 'PUT', 'page': 'NextSong', 'registration': 1540344794796.0, 'sessionId': 139, 'song': 'Flat 55', 'status': 200, 'ts': 1541106352796, 'userAgent': '\"Mozilla/5.0 (Windows NT 6.1; WOW64) AppleWebKit/537.36 (KHTML, like Gecko) Chrome/35.0.1916.153 Safari/537.36\"', 'userId': '8'}\n",
      "{'artist': 'Tamba Trio', 'auth': 'Logged In', 'firstName': 'Kaylee', 'gender': 'F', 'itemInSession': 4, 'lastName': 'Summers', 'length': 177.18812, 'level': 'free', 'location': 'Phoenix-Mesa-Scottsdale, AZ', 'method': 'PUT', 'page': 'NextSong', 'registration': 1540344794796.0, 'sessionId': 139, 'song': 'Quem Quiser Encontrar O Amor', 'status': 200, 'ts': 1541106496796, 'userAgent': '\"Mozilla/5.0 (Windows NT 6.1; WOW64) AppleWebKit/537.36 (KHTML, like Gecko) Chrome/35.0.1916.153 Safari/537.36\"', 'userId': '8'}\n",
      "{'artist': 'The Mars Volta', 'auth': 'Logged In', 'firstName': 'Kaylee', 'gender': 'F', 'itemInSession': 5, 'lastName': 'Summers', 'length': 380.42077, 'level': 'free', 'location': 'Phoenix-Mesa-Scottsdale, AZ', 'method': 'PUT', 'page': 'NextSong', 'registration': 1540344794796.0, 'sessionId': 139, 'song': 'Eriatarka', 'status': 200, 'ts': 1541106673796, 'userAgent': '\"Mozilla/5.0 (Windows NT 6.1; WOW64) AppleWebKit/537.36 (KHTML, like Gecko) Chrome/35.0.1916.153 Safari/537.36\"', 'userId': '8'}\n",
      "{'artist': 'Infected Mushroom', 'auth': 'Logged In', 'firstName': 'Kaylee', 'gender': 'F', 'itemInSession': 6, 'lastName': 'Summers', 'length': 440.2673, 'level': 'free', 'location': 'Phoenix-Mesa-Scottsdale, AZ', 'method': 'PUT', 'page': 'NextSong', 'registration': 1540344794796.0, 'sessionId': 139, 'song': 'Becoming Insane', 'status': 200, 'ts': 1541107053796, 'userAgent': '\"Mozilla/5.0 (Windows NT 6.1; WOW64) AppleWebKit/537.36 (KHTML, like Gecko) Chrome/35.0.1916.153 Safari/537.36\"', 'userId': '8'}\n",
      "{'artist': 'Blue October / Imogen Heap', 'auth': 'Logged In', 'firstName': 'Kaylee', 'gender': 'F', 'itemInSession': 7, 'lastName': 'Summers', 'length': 241.3971, 'level': 'free', 'location': 'Phoenix-Mesa-Scottsdale, AZ', 'method': 'PUT', 'page': 'NextSong', 'registration': 1540344794796.0, 'sessionId': 139, 'song': 'Congratulations', 'status': 200, 'ts': 1541107493796, 'userAgent': '\"Mozilla/5.0 (Windows NT 6.1; WOW64) AppleWebKit/537.36 (KHTML, like Gecko) Chrome/35.0.1916.153 Safari/537.36\"', 'userId': '8'}\n",
      "{'artist': 'Girl Talk', 'auth': 'Logged In', 'firstName': 'Kaylee', 'gender': 'F', 'itemInSession': 8, 'lastName': 'Summers', 'length': 160.15628, 'level': 'free', 'location': 'Phoenix-Mesa-Scottsdale, AZ', 'method': 'PUT', 'page': 'NextSong', 'registration': 1540344794796.0, 'sessionId': 139, 'song': 'Once again', 'status': 200, 'ts': 1541107734796, 'userAgent': '\"Mozilla/5.0 (Windows NT 6.1; WOW64) AppleWebKit/537.36 (KHTML, like Gecko) Chrome/35.0.1916.153 Safari/537.36\"', 'userId': '8'}\n",
      "{'artist': 'Black Eyed Peas', 'auth': 'Logged In', 'firstName': 'Sylvie', 'gender': 'F', 'itemInSession': 0, 'lastName': 'Cruz', 'length': 214.93506, 'level': 'free', 'location': 'Washington-Arlington-Alexandria, DC-VA-MD-WV', 'method': 'PUT', 'page': 'NextSong', 'registration': 1540266185796.0, 'sessionId': 9, 'song': 'Pump It', 'status': 200, 'ts': 1541108520796, 'userAgent': '\"Mozilla/5.0 (Macintosh; Intel Mac OS X 10_9_4) AppleWebKit/537.77.4 (KHTML, like Gecko) Version/7.0.5 Safari/537.77.4\"', 'userId': '10'}\n",
      "{'artist': None, 'auth': 'Logged In', 'firstName': 'Ryan', 'gender': 'M', 'itemInSession': 0, 'lastName': 'Smith', 'length': None, 'level': 'free', 'location': 'San Jose-Sunnyvale-Santa Clara, CA', 'method': 'GET', 'page': 'Home', 'registration': 1541016707796.0, 'sessionId': 169, 'song': None, 'status': 200, 'ts': 1541109015796, 'userAgent': '\"Mozilla/5.0 (X11; Linux x86_64) AppleWebKit/537.36 (KHTML, like Gecko) Ubuntu Chromium/36.0.1985.125 Chrome/36.0.1985.125 Safari/537.36\"', 'userId': '26'}\n",
      "{'artist': 'Fall Out Boy', 'auth': 'Logged In', 'firstName': 'Ryan', 'gender': 'M', 'itemInSession': 1, 'lastName': 'Smith', 'length': 200.72444, 'level': 'free', 'location': 'San Jose-Sunnyvale-Santa Clara, CA', 'method': 'PUT', 'page': 'NextSong', 'registration': 1541016707796.0, 'sessionId': 169, 'song': 'Nobody Puts Baby In The Corner', 'status': 200, 'ts': 1541109125796, 'userAgent': '\"Mozilla/5.0 (X11; Linux x86_64) AppleWebKit/537.36 (KHTML, like Gecko) Ubuntu Chromium/36.0.1985.125 Chrome/36.0.1985.125 Safari/537.36\"', 'userId': '26'}\n",
      "{'artist': 'M.I.A.', 'auth': 'Logged In', 'firstName': 'Ryan', 'gender': 'M', 'itemInSession': 2, 'lastName': 'Smith', 'length': 233.7171, 'level': 'free', 'location': 'San Jose-Sunnyvale-Santa Clara, CA', 'method': 'PUT', 'page': 'NextSong', 'registration': 1541016707796.0, 'sessionId': 169, 'song': 'Mango Pickle Down River (With The Wilcannia Mob)', 'status': 200, 'ts': 1541109325796, 'userAgent': '\"Mozilla/5.0 (X11; Linux x86_64) AppleWebKit/537.36 (KHTML, like Gecko) Ubuntu Chromium/36.0.1985.125 Chrome/36.0.1985.125 Safari/537.36\"', 'userId': '26'}\n",
      "{'artist': 'Survivor', 'auth': 'Logged In', 'firstName': 'Jayden', 'gender': 'M', 'itemInSession': 0, 'lastName': 'Fox', 'length': 245.36771, 'level': 'free', 'location': 'New Orleans-Metairie, LA', 'method': 'PUT', 'page': 'NextSong', 'registration': 1541033612796.0, 'sessionId': 100, 'song': 'Eye Of The Tiger', 'status': 200, 'ts': 1541110994796, 'userAgent': '\"Mozilla/5.0 (Windows NT 6.3; WOW64) AppleWebKit/537.36 (KHTML, like Gecko) Chrome/36.0.1985.143 Safari/537.36\"', 'userId': '101'}\n"
     ]
    }
   ],
   "source": [
    "with fs.open(\"s3://udacity-dend/log_data/2018/11/2018-11-01-events.json\", \"rb\") as f:\n",
    "    for line in f :\n",
    "        #print(line)\n",
    "        a = json.loads(line)\n",
    "        print(a)"
   ]
  },
  {
   "cell_type": "code",
   "execution_count": 22,
   "metadata": {
    "editable": true
   },
   "outputs": [],
   "source": [
    "s='{\"artist\":null,\"auth\":\"Logged In\",\"firstName\":\"Walter\",\"gender\":\"M\",\"itemInSession\":0,\"lastName\":\"Frye\",\"length\":null,\"level\":\"free\",\"location\":\"San Francisco-Oakland-Hayward, CA\",\"method\":\"GET\",\"page\":\"Home\",\"registration\":1540919166796.0,\"sessionId\":38,\"song\":null,\"status\":200,\"ts\":1541105830796,\"userAgent\":\"\\\\\"Mozilla\\\\/5.0 (Macintosh; Intel Mac OS X 10_9_4) AppleWebKit\\\\/537.36 (KHTML, like Gecko) Chrome\\\\/36.0.1985.143 Safari\\\\/537.36\\\\\"\",\"userId\":\"39\"}'"
   ]
  },
  {
   "cell_type": "code",
   "execution_count": 23,
   "metadata": {
    "editable": true
   },
   "outputs": [
    {
     "data": {
      "text/plain": [
       "{'artist': None,\n",
       " 'auth': 'Logged In',\n",
       " 'firstName': 'Walter',\n",
       " 'gender': 'M',\n",
       " 'itemInSession': 0,\n",
       " 'lastName': 'Frye',\n",
       " 'length': None,\n",
       " 'level': 'free',\n",
       " 'location': 'San Francisco-Oakland-Hayward, CA',\n",
       " 'method': 'GET',\n",
       " 'page': 'Home',\n",
       " 'registration': 1540919166796.0,\n",
       " 'sessionId': 38,\n",
       " 'song': None,\n",
       " 'status': 200,\n",
       " 'ts': 1541105830796,\n",
       " 'userAgent': '\"Mozilla/5.0 (Macintosh; Intel Mac OS X 10_9_4) AppleWebKit/537.36 (KHTML, like Gecko) Chrome/36.0.1985.143 Safari/537.36\"',\n",
       " 'userId': '39'}"
      ]
     },
     "execution_count": 23,
     "metadata": {},
     "output_type": "execute_result"
    }
   ],
   "source": [
    "json.loads(s)"
   ]
  },
  {
   "cell_type": "code",
   "execution_count": 31,
   "metadata": {
    "editable": true
   },
   "outputs": [],
   "source": [
    "with fs.open('s3://udacity-dend/log_json_path.json') as ff :\n",
    "    logg = json.load(ff)"
   ]
  },
  {
   "cell_type": "code",
   "execution_count": 32,
   "metadata": {
    "editable": true
   },
   "outputs": [
    {
     "data": {
      "text/plain": [
       "{'jsonpaths': [\"$['artist']\",\n",
       "  \"$['auth']\",\n",
       "  \"$['firstName']\",\n",
       "  \"$['gender']\",\n",
       "  \"$['itemInSession']\",\n",
       "  \"$['lastName']\",\n",
       "  \"$['length']\",\n",
       "  \"$['level']\",\n",
       "  \"$['location']\",\n",
       "  \"$['method']\",\n",
       "  \"$['page']\",\n",
       "  \"$['registration']\",\n",
       "  \"$['sessionId']\",\n",
       "  \"$['song']\",\n",
       "  \"$['status']\",\n",
       "  \"$['ts']\",\n",
       "  \"$['userAgent']\",\n",
       "  \"$['userId']\"]}"
      ]
     },
     "execution_count": 32,
     "metadata": {},
     "output_type": "execute_result"
    }
   ],
   "source": [
    "logg"
   ]
  },
  {
   "cell_type": "code",
   "execution_count": null,
   "metadata": {
    "editable": true
   },
   "outputs": [],
   "source": []
  }
 ],
 "metadata": {
  "kernelspec": {
   "display_name": "Python 3",
   "language": "python",
   "name": "python3"
  },
  "language_info": {
   "codemirror_mode": {
    "name": "ipython",
    "version": 3
   },
   "file_extension": ".py",
   "mimetype": "text/x-python",
   "name": "python",
   "nbconvert_exporter": "python",
   "pygments_lexer": "ipython3",
   "version": "3.6.3"
  }
 },
 "nbformat": 4,
 "nbformat_minor": 4
}
